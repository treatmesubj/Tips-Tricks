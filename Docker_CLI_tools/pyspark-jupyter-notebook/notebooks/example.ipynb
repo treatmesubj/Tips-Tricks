{
 "cells": [
  {
   "cell_type": "code",
   "execution_count": null,
   "id": "1f0a4ac1-2c1d-4c3a-9829-5236732c1cf7",
   "metadata": {},
   "outputs": [],
   "source": [
    "from pyspark.sql import SparkSession\n",
    "from pyspark.conf import SparkConf\n",
    "from pyspark.sql.types import DateType, TimestampType\n",
    "from pyspark.sql.functions import date_format\n",
    "import os\n",
    "import concurrent.futures\n",
    "\n"
   ]
  },
  {
   "cell_type": "code",
   "execution_count": null,
   "id": "d2df1e94-5d9e-484a-8e2b-d54cc53ad0fe",
   "metadata": {},
   "outputs": [],
   "source": [
    "def get_df(\n",
    "    spark_session,\n",
    "    jdbc_url: str,\n",
    "    user: str,\n",
    "    password: str,\n",
    "    sql_statement: str,\n",
    "    driver: str = \"com.ibm.db2.jcc.DB2Driver\",\n",
    "):\n",
    "    spark_sql_statement = f\"({sql_statement}) as tab\"\n",
    "\n",
    "    df_config = (\n",
    "        spark_session.read.format(\"jdbc\")\n",
    "        .option(\"url\", jdbc_url)\n",
    "        .option(\"driver\", driver)\n",
    "        .option(\"user\", user)\n",
    "        .option(\"password\", password)\n",
    "        .option(\"dbtable\", spark_sql_statement)\n",
    "    )\n",
    "    df = df_config.load()\n",
    "    return df\n"
   ]
  },
  {
   "cell_type": "code",
   "execution_count": null,
   "id": "f9ffa10a-3b46-4209-b5e8-5654014590bf",
   "metadata": {},
   "outputs": [],
   "source": [
    "conf = SparkConf()\n",
    "conf.set(\n",
    "    \"spark.jars\",\n",
    "    \"/container-dir/JARs/db2jcc4.jar,/container-dir/JARs/db2jcc_license_cisuz.jar,/container-dir/JARs/db2jcc_license_cu.jar,\",\n",
    ")\n",
    "conf.set(\"spark.driver.memory\", \"6g\")  # 8g\n",
    "spark = SparkSession.builder.config(conf=conf).getOrCreate()\n"
   ]
  },
  {
   "cell_type": "markdown",
   "id": "9cd91423-0703-455b-943a-2619c69093ad",
   "metadata": {},
   "source": [
    "---\n",
    "# Get Some Data"
   ]
  },
  {
   "cell_type": "code",
   "execution_count": null,
   "id": "ff8be374-58f3-40bd-bb58-6163b10f000b",
   "metadata": {},
   "outputs": [],
   "source": [
    "sql_statement = \"\"\"\n",
    "SELECT *\n",
    "FROM BLAH.BLAH\n",
    "\"\"\"\n",
    "df = get_df(\n",
    "    spark_session=spark,\n",
    "    jdbc_url=r\"jdbc:db2://the-db2:50001/BLUDB:sslConnection=true;sslTrustStoreLocation=/container-dir/truststore/ibm-truststore.jks;sslTrustStorePassword=changeit;\",\n",
    "    user=os.getenv(\"db_user\"),\n",
    "    password=os.getenv(\"db_pw\"),\n",
    "    sql_statement=sql_statement,\n",
    ")\n",
    "df_local = spark.createDataFrame(data=df_LOAD.collect(), schema=df_LOAD.schema)\n",
    "df_local.createOrReplaceTempView(\"data_view\")\n",
    "print(df_local.head())\n",
    "print(df_local.count())\n"
   ]
  },
  {
   "cell_type": "code",
   "execution_count": null,
   "id": "df7ee3af-d584-4bcc-9d41-13f7f5bb7a00",
   "metadata": {},
   "outputs": [],
   "source": [
    "df_local.toPandas().to_csv(\"./results/data.csv\")"
   ]
  },
  {
   "cell_type": "code",
   "execution_count": null,
   "id": "79e4e597-767c-4434-89a0-b131a667e96b",
   "metadata": {},
   "outputs": [],
   "source": []
  }
 ],
 "metadata": {
  "kernelspec": {
   "display_name": "Python 3 (ipykernel)",
   "language": "python",
   "name": "python3"
  },
  "language_info": {
   "codemirror_mode": {
    "name": "ipython",
    "version": 3
   },
   "file_extension": ".py",
   "mimetype": "text/x-python",
   "name": "python",
   "nbconvert_exporter": "python",
   "pygments_lexer": "ipython3",
   "version": "3.11.8"
  }
 },
 "nbformat": 4,
 "nbformat_minor": 5
}
